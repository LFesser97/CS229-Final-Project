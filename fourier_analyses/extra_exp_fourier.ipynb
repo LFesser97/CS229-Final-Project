{
 "cells": [
  {
   "cell_type": "code",
   "execution_count": null,
   "metadata": {},
   "outputs": [],
   "source": [
    "import numpy as np\n",
    "import matplotlib.pyplot as plt\n",
    "import tqdm\n",
    "import torch\n",
    "from torch import nn \n",
    "import torch.nn.functional as F\n",
    "from torch import optim\n",
    "from torch.autograd import grad\n",
    "\n",
    "from argparse import Namespace\n",
    "from functools import reduce\n",
    "import seaborn as sns\n",
    "import pickle"
   ]
  },
  {
   "cell_type": "code",
   "execution_count": null,
   "metadata": {},
   "outputs": [],
   "source": [
    "def get_fft(y, sampling_rate):\n",
    "  # Calculate the Fourier transform of f(x)\n",
    "  fourier = np.fft.fft(y.squeeze())\n",
    "\n",
    "  length = len(y)\n",
    "\n",
    "  # Calculate the corresponding frequencies\n",
    "  freq = np.fft.fftfreq(length, 1/sampling_rate)\n",
    "\n",
    "  results = list(zip(freq, np.abs(fourier)))\n",
    "  filtered = [(x, y) for (x, y) in results if x > 0]\n",
    "  results = list(zip(*filtered))\n",
    "\n",
    "\n",
    "  return results"
   ]
  },
  {
   "cell_type": "code",
   "execution_count": null,
   "metadata": {},
   "outputs": [],
   "source": [
    "def compare_solutions(t, y_true, y_pred, domain_len):\n",
    "  start = round(256 * t * 100)\n",
    "  end = start + 256\n",
    "\n",
    "  fig, (ax0, ax1, ax2) = plt.subplots(1, 3, figsize=(18, 5))\n",
    "\n",
    "  ax0.plot(X[:, 0][start:end], y_true[start:end], \"b-\", label=\"Exact\", linewidth=3)\n",
    "  ax0.plot(X[:, 0][start:end], y_pred[start:end], \"r--\", label=\"Prediction\", linewidth=3)\n",
    "  ax0.legend(fontsize=12)\n",
    "  ax0.set_title(f\"Comparing Solutions at Time {t}\")\n",
    "  ax0.set_xlabel(\"x\")\n",
    "  ax0.set_ylabel(\"u(x, t)\")\n",
    "\n",
    "  true_freq, true_fourier = get_fft(y_true[start:end], 256/domain_len)\n",
    "  pred_freq, pred_fourier = get_fft(y_pred[start:end], 256/domain_len)\n",
    "  ax1.plot(true_freq, true_fourier, \"b-\", label=\"Exact\", linewidth=3)\n",
    "  ax1.plot(pred_freq, pred_fourier, \"r--\", label=\"Prediction\", linewidth=3)\n",
    "  ax1.legend(fontsize=12)\n",
    "  ax1.set_title(f\"Comparing Fourier Transforms of Solutions at Time {t}\")\n",
    "  ax1.set_xlabel(\"Frequency\")\n",
    "  ax1.set_ylabel(\"Amplitude\")\n",
    "\n",
    "  fourier_diff = abs(np.array(true_fourier) - np.array(pred_fourier))\n",
    "  ax2.plot(true_freq, fourier_diff, \"b-\", linewidth=3)\n",
    "  ax2.set_title(f\"Difference in Fourier Transforms of Solutions at Time {t}\")\n",
    "  ax2.set_xlabel(\"Frequency\")\n",
    "  ax2.set_ylabel(\"Absolute Difference in Amplitude\")\n",
    "  \n",
    "  plt.show()"
   ]
  },
  {
   "cell_type": "code",
   "execution_count": null,
   "metadata": {},
   "outputs": [],
   "source": [
    "with open('/home/ec2-user/project/CS229-Foundations-of-Deep-Learning/fourier_analyses/larger_spectrum/larger_spectrum_10.pkl') as f:\n",
    "    larger_spectrum = pickle.load(f)"
   ]
  }
 ],
 "metadata": {
  "language_info": {
   "name": "python"
  },
  "orig_nbformat": 4
 },
 "nbformat": 4,
 "nbformat_minor": 2
}
