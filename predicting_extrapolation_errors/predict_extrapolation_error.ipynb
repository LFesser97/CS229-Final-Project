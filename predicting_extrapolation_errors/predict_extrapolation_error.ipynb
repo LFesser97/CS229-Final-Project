{
  "cells": [
    {
      "cell_type": "code",
      "execution_count": null,
      "metadata": {
        "colab": {
          "base_uri": "https://localhost:8080/"
        },
        "collapsed": true,
        "id": "ZfdXEGT9m7IL",
        "outputId": "ec925395-ae8a-45c5-e553-705759b34bf0"
      },
      "outputs": [
        {
          "name": "stdout",
          "output_type": "stream",
          "text": [
            "Looking in indexes: https://pypi.org/simple, https://us-python.pkg.dev/colab-wheels/public/simple/\n",
            "Collecting deepxde\n",
            "  Downloading DeepXDE-1.9.0-py3-none-any.whl (156 kB)\n",
            "\u001b[2K     \u001b[90m━━━━━━━━━━━━━━━━━━━━━━━━━━━━━━━━━━━━━━━\u001b[0m \u001b[32m156.9/156.9 kB\u001b[0m \u001b[31m3.9 MB/s\u001b[0m eta \u001b[36m0:00:00\u001b[0m\n",
            "\u001b[?25hRequirement already satisfied: matplotlib in /usr/local/lib/python3.10/dist-packages (from deepxde) (3.7.1)\n",
            "Requirement already satisfied: numpy in /usr/local/lib/python3.10/dist-packages (from deepxde) (1.22.4)\n",
            "Requirement already satisfied: scikit-learn in /usr/local/lib/python3.10/dist-packages (from deepxde) (1.2.2)\n",
            "Collecting scikit-optimize>=0.9.0 (from deepxde)\n",
            "  Downloading scikit_optimize-0.9.0-py2.py3-none-any.whl (100 kB)\n",
            "\u001b[2K     \u001b[90m━━━━━━━━━━━━━━━━━━━━━━━━━━━━━━━━━━━━━━━\u001b[0m \u001b[32m100.3/100.3 kB\u001b[0m \u001b[31m6.6 MB/s\u001b[0m eta \u001b[36m0:00:00\u001b[0m\n",
            "\u001b[?25hRequirement already satisfied: scipy in /usr/local/lib/python3.10/dist-packages (from deepxde) (1.10.1)\n",
            "Requirement already satisfied: joblib>=0.11 in /usr/local/lib/python3.10/dist-packages (from scikit-optimize>=0.9.0->deepxde) (1.2.0)\n",
            "Collecting pyaml>=16.9 (from scikit-optimize>=0.9.0->deepxde)\n",
            "  Downloading pyaml-23.5.9-py3-none-any.whl (17 kB)\n",
            "Requirement already satisfied: threadpoolctl>=2.0.0 in /usr/local/lib/python3.10/dist-packages (from scikit-learn->deepxde) (3.1.0)\n",
            "Requirement already satisfied: contourpy>=1.0.1 in /usr/local/lib/python3.10/dist-packages (from matplotlib->deepxde) (1.0.7)\n",
            "Requirement already satisfied: cycler>=0.10 in /usr/local/lib/python3.10/dist-packages (from matplotlib->deepxde) (0.11.0)\n",
            "Requirement already satisfied: fonttools>=4.22.0 in /usr/local/lib/python3.10/dist-packages (from matplotlib->deepxde) (4.39.3)\n",
            "Requirement already satisfied: kiwisolver>=1.0.1 in /usr/local/lib/python3.10/dist-packages (from matplotlib->deepxde) (1.4.4)\n",
            "Requirement already satisfied: packaging>=20.0 in /usr/local/lib/python3.10/dist-packages (from matplotlib->deepxde) (23.1)\n",
            "Requirement already satisfied: pillow>=6.2.0 in /usr/local/lib/python3.10/dist-packages (from matplotlib->deepxde) (8.4.0)\n",
            "Requirement already satisfied: pyparsing>=2.3.1 in /usr/local/lib/python3.10/dist-packages (from matplotlib->deepxde) (3.0.9)\n",
            "Requirement already satisfied: python-dateutil>=2.7 in /usr/local/lib/python3.10/dist-packages (from matplotlib->deepxde) (2.8.2)\n",
            "Requirement already satisfied: PyYAML in /usr/local/lib/python3.10/dist-packages (from pyaml>=16.9->scikit-optimize>=0.9.0->deepxde) (6.0)\n",
            "Requirement already satisfied: six>=1.5 in /usr/local/lib/python3.10/dist-packages (from python-dateutil>=2.7->matplotlib->deepxde) (1.16.0)\n",
            "Installing collected packages: pyaml, scikit-optimize, deepxde\n",
            "Successfully installed deepxde-1.9.0 pyaml-23.5.9 scikit-optimize-0.9.0\n",
            "No backend selected.\n",
            "Finding available backend...\n"
          ]
        },
        {
          "name": "stderr",
          "output_type": "stream",
          "text": [
            "Using backend: tensorflow.compat.v1\n",
            "Other supported backends: tensorflow, pytorch, jax, paddle.\n",
            "paddle supports more examples now and is recommended.\n",
            "WARNING:tensorflow:From /usr/local/lib/python3.10/dist-packages/tensorflow/python/compat/v2_compat.py:107: disable_resource_variables (from tensorflow.python.ops.variable_scope) is deprecated and will be removed in a future version.\n",
            "Instructions for updating:\n",
            "non-resource variables are not supported in the long term\n"
          ]
        },
        {
          "name": "stdout",
          "output_type": "stream",
          "text": [
            "Found tensorflow.compat.v1\n",
            "Setting the default backend to \"tensorflow.compat.v1\". You can change it in the ~/.deepxde/config.json file or export the DDE_BACKEND environment variable. Valid options are: tensorflow.compat.v1, tensorflow, pytorch, jax, paddle (all lowercase)\n",
            "Enable just-in-time compilation with XLA.\n",
            "\n"
          ]
        },
        {
          "name": "stderr",
          "output_type": "stream",
          "text": [
            "WARNING:tensorflow:From /usr/local/lib/python3.10/dist-packages/deepxde/nn/initializers.py:118: The name tf.keras.initializers.he_normal is deprecated. Please use tf.compat.v1.keras.initializers.he_normal instead.\n",
            "\n"
          ]
        }
      ],
      "source": [
        "# install DeepXDE\n",
        "\n",
        "%pip install deepxde\n",
        "\n",
        "# import packages\n",
        "\n",
        "import deepxde as dde\n",
        "import numpy as np\n",
        "\n",
        "from deepxde.backend import tf\n",
        "\n",
        "import matplotlib.pyplot as plt\n",
        "from mpl_toolkits.mplot3d import Axes3D  \n",
        "import random"
      ]
    },
    {
      "cell_type": "markdown",
      "metadata": {
        "id": "ED1x5t-tpRbc"
      },
      "source": [
        "**Fitting Exponential Functions**"
      ]
    },
    {
      "cell_type": "code",
      "execution_count": 49,
      "metadata": {
        "id": "AayK2Hcoo21R"
      },
      "outputs": [],
      "source": [
        "# fit an exponential function to the l2 errors in extrapolation\n",
        "\n",
        "import scipy\n",
        "from scipy.optimize import curve_fit\n",
        "\n",
        "def exp_fit(y: list) -> tuple:\n",
        "    \"\"\"\n",
        "    Fit an exponential curve to the data (x, y).\n",
        "\n",
        "    Parameters\n",
        "    ----------\n",
        "    y : the y values of the data\n",
        "\n",
        "    Returns\n",
        "    -------\n",
        "    popt : optimal values for the parameters so that the sum of the squared\n",
        "              residuals of f(xdata, *popt) - ydata is minimized\n",
        "\n",
        "    pcov : the estimated covariance of popt\n",
        "    \"\"\"\n",
        "    x = np.arange(0, len(y))\n",
        "    popt, pcov = curve_fit(lambda t,a,b,c: a*np.exp(b*t)+c, x, y, p0=(1, 1e-6, -1))\n",
        "    return popt, pcov\n",
        "\n",
        "\n",
        "# plot the data and the exponential curve\n",
        "\n",
        "import matplotlib.pyplot as plt\n",
        "\n",
        "def plot_exp_fit(y: list, popt: tuple) -> None:\n",
        "    \"\"\"\n",
        "    Plot the data and the exponential curve.\n",
        "\n",
        "    Parameters\n",
        "    ----------\n",
        "    y : the y values of the data\n",
        "\n",
        "    popt : optimal values for the parameters so that the sum of the squared\n",
        "              residuals of f(xdata, *popt) - ydata is minimized\n",
        "\n",
        "    Returns\n",
        "    -------\n",
        "    None\n",
        "    \"\"\"\n",
        "    x = np.arange(0, len(y))\n",
        "    plt.plot(x, y, 'ko', label=\"Original Data\")\n",
        "    plt.plot(x, popt[0]*np.exp(popt[1]*x) + popt[2], 'r-', label=\"Fitted Curve\")\n",
        "    plt.legend()\n",
        "    plt.show()"
      ]
    },
    {
      "cell_type": "markdown",
      "metadata": {
        "id": "7V1nDfXxpXL0"
      },
      "source": [
        "**Fourier Analysis**"
      ]
    },
    {
      "cell_type": "code",
      "execution_count": null,
      "metadata": {
        "id": "E5kSfHKApWvk"
      },
      "outputs": [],
      "source": [
        "def get_fft(y, sampling_rate):\n",
        "  # Calculate the Fourier transform of f(x)\n",
        "  fourier = np.fft.fft(y.squeeze())\n",
        "\n",
        "  length = len(y)\n",
        "\n",
        "  # Calculate the corresponding frequencies\n",
        "  freq = np.fft.fftfreq(length, 1/sampling_rate)\n",
        "\n",
        "  results = list(zip(freq, np.abs(fourier)))\n",
        "  filtered = [(x, y) for (x, y) in results if x > 0]\n",
        "  results = list(zip(*filtered))\n",
        "\n",
        "  return results"
      ]
    },
    {
      "cell_type": "markdown",
      "metadata": {
        "id": "X-g1FOLOmoKU"
      },
      "source": [
        "**Diffusion-Reaction Equation**"
      ]
    },
    {
      "cell_type": "code",
      "execution_count": null,
      "metadata": {
        "id": "wlIhiYhvs6e7"
      },
      "outputs": [],
      "source": [
        "M = 1\n",
        "K = 10\n",
        "\n",
        "def pde(x, y):\n",
        "    dy_t = dde.grad.jacobian(y, x, i=0, j=1)\n",
        "    dy_xx = dde.grad.hessian(y, x, i=0, j=0)\n",
        "    d = 1\n",
        "\n",
        "    residual = 3 * tf.sin(2 * x[:, 0:1]) / 2\n",
        "\n",
        "    for l in range(3, K + 1):\n",
        "        residual += (l ** 2 - 1) * tf.sin(l * x[:, 0:1]) / l\n",
        "\n",
        "    return (dy_t - d * dy_xx - tf.exp(-M * x[:, 1:]) * residual)\n",
        "\n",
        "\n",
        "def func(x):\n",
        "    residual = np.sin(x[:, 0:1]) + np.sin(2 * x[:, 0:1]) / 2\n",
        "\n",
        "    for l in range(3, K + 1):\n",
        "        residual += np.sin(l * x[:, 0:1]) / l\n",
        "\n",
        "    return (np.exp(-M * x[:, 1:]) * residual)"
      ]
    },
    {
      "cell_type": "code",
      "execution_count": null,
      "metadata": {
        "colab": {
          "base_uri": "https://localhost:8080/"
        },
        "collapsed": true,
        "id": "a6NZIOfimh75",
        "outputId": "a27406ab-b35f-4074-c6f3-59a797ff9e04"
      },
      "outputs": [
        {
          "name": "stdout",
          "output_type": "stream",
          "text": [
            "Warning: 10000 points required, but 10295 points sampled.\n",
            "Compiling model...\n",
            "Building feed-forward neural network...\n",
            "'build' took 0.109171 s\n",
            "\n"
          ]
        },
        {
          "name": "stderr",
          "output_type": "stream",
          "text": [
            "/usr/local/lib/python3.10/dist-packages/deepxde/nn/tensorflow_compat_v1/fnn.py:116: UserWarning: `tf.layers.dense` is deprecated and will be removed in a future version. Please use `tf.keras.layers.Dense` instead.\n",
            "  return tf.layers.dense(\n"
          ]
        },
        {
          "name": "stdout",
          "output_type": "stream",
          "text": [
            "'compile' took 3.313928 s\n",
            "\n"
          ]
        }
      ],
      "source": [
        "geom = dde.geometry.Interval(-np.pi, np.pi)\n",
        "timedomain = dde.geometry.TimeDomain(0, 0.5)\n",
        "geomtime = dde.geometry.GeometryXTime(geom, timedomain)\n",
        "\n",
        "bc = dde.icbc.DirichletBC(geomtime, func, lambda _, on_boundary: on_boundary)\n",
        "ic = dde.icbc.IC(geomtime, func, lambda _, on_initial: on_initial)\n",
        "data = dde.data.TimePDE(\n",
        "    geomtime,\n",
        "    pde,\n",
        "    [bc, ic],\n",
        "    num_domain= int(K * 320),\n",
        "    num_boundary= int(K * 20),\n",
        "    num_initial= int(K * 10),\n",
        "    solution=func,\n",
        "    num_test=10000,\n",
        ")\n",
        "\n",
        "# set up the model\n",
        "layer_size = [2] + [100] * 5 + [1]\n",
        "activation = \"tanh\"\n",
        "initializer = \"Glorot uniform\"\n",
        "net = dde.nn.FNN(layer_size, activation, initializer)\n",
        "\n",
        "# net = dde.nn.MsFFN(layer_size, activation, initializer, sigmas=[1, 10])\n",
        "\n",
        "model = dde.Model(data, net)\n",
        "\n",
        "model.compile(\"adam\", lr=1e-4, metrics=[\"l2 relative error\"])"
      ]
    },
    {
      "cell_type": "code",
      "execution_count": null,
      "metadata": {
        "colab": {
          "base_uri": "https://localhost:8080/"
        },
        "collapsed": true,
        "id": "YRqPPcWdn_I-",
        "outputId": "90a4f380-de55-46f7-975c-0f65d60f2636"
      },
      "outputs": [
        {
          "name": "stdout",
          "output_type": "stream",
          "text": [
            "Training model...\n",
            "\n",
            "Step      Train loss                        Test loss                         Test metric   \n",
            "0         [1.12e+02, 2.31e-01, 1.17e+00]    [1.14e+02, 2.31e-01, 1.17e+00]    [1.30e+00]    \n",
            "1000      [7.11e+00, 6.49e-02, 1.52e-01]    [7.27e+00, 6.49e-02, 1.52e-01]    [4.29e-01]    \n",
            "2000      [2.27e+00, 2.59e-04, 6.70e-03]    [2.32e+00, 2.59e-04, 6.70e-03]    [1.01e-01]    \n",
            "3000      [6.94e-01, 1.52e-02, 2.94e-03]    [6.28e-01, 1.52e-02, 2.94e-03]    [7.24e-02]    \n",
            "4000      [8.83e-02, 2.23e-03, 3.59e-03]    [4.69e-02, 2.23e-03, 3.59e-03]    [6.71e-02]    \n",
            "5000      [5.82e-03, 1.90e-04, 2.03e-04]    [4.99e-03, 1.90e-04, 2.03e-04]    [9.88e-03]    \n",
            "6000      [2.23e-03, 9.00e-05, 8.54e-05]    [2.04e-03, 9.00e-05, 8.54e-05]    [6.22e-03]    \n",
            "7000      [1.37e-03, 2.67e-05, 3.93e-05]    [1.24e-03, 2.67e-05, 3.93e-05]    [4.07e-03]    \n",
            "8000      [9.43e-04, 7.02e-06, 1.99e-05]    [8.47e-04, 7.02e-06, 1.99e-05]    [2.74e-03]    \n",
            "9000      [6.94e-04, 2.92e-06, 1.26e-05]    [6.22e-04, 2.92e-06, 1.26e-05]    [2.08e-03]    \n",
            "10000     [6.13e-04, 2.49e-06, 9.76e-06]    [5.50e-04, 2.49e-06, 9.76e-06]    [1.79e-03]    \n",
            "11000     [4.36e-04, 2.23e-06, 7.74e-06]    [3.92e-04, 2.23e-06, 7.74e-06]    [1.55e-03]    \n",
            "12000     [3.66e-04, 1.91e-06, 6.53e-06]    [3.29e-04, 1.91e-06, 6.53e-06]    [1.41e-03]    \n",
            "13000     [3.15e-04, 1.57e-06, 5.51e-06]    [2.83e-04, 1.57e-06, 5.51e-06]    [1.29e-03]    \n",
            "14000     [2.76e-04, 1.27e-06, 4.62e-06]    [2.49e-04, 1.27e-06, 4.62e-06]    [1.17e-03]    \n",
            "15000     [2.48e-04, 1.10e-06, 3.93e-06]    [2.23e-04, 1.10e-06, 3.93e-06]    [1.08e-03]    \n",
            "16000     [2.24e-04, 9.26e-07, 3.31e-06]    [2.02e-04, 9.26e-07, 3.31e-06]    [9.91e-04]    \n",
            "17000     [2.05e-04, 8.54e-07, 2.85e-06]    [1.85e-04, 8.54e-07, 2.85e-06]    [9.21e-04]    \n",
            "18000     [1.88e-04, 7.52e-07, 2.46e-06]    [1.70e-04, 7.52e-07, 2.46e-06]    [8.55e-04]    \n",
            "19000     [1.75e-04, 6.94e-07, 2.16e-06]    [1.58e-04, 6.94e-07, 2.16e-06]    [8.01e-04]    \n",
            "20000     [1.63e-04, 6.53e-07, 1.92e-06]    [1.47e-04, 6.53e-07, 1.92e-06]    [7.57e-04]    \n",
            "21000     [1.52e-04, 6.31e-07, 1.74e-06]    [1.38e-04, 6.31e-07, 1.74e-06]    [7.21e-04]    \n",
            "22000     [1.43e-04, 6.13e-07, 1.59e-06]    [1.29e-04, 6.13e-07, 1.59e-06]    [6.89e-04]    \n",
            "23000     [1.36e-04, 6.27e-07, 1.48e-06]    [1.22e-04, 6.27e-07, 1.48e-06]    [6.67e-04]    \n",
            "24000     [1.28e-04, 5.68e-07, 1.35e-06]    [1.16e-04, 5.68e-07, 1.35e-06]    [6.34e-04]    \n",
            "25000     [1.22e-04, 5.98e-07, 1.30e-06]    [1.10e-04, 5.98e-07, 1.30e-06]    [6.24e-04]    \n",
            "26000     [1.16e-04, 5.59e-07, 1.21e-06]    [1.05e-04, 5.59e-07, 1.21e-06]    [6.00e-04]    \n",
            "27000     [1.88e-04, 6.59e-07, 1.12e-06]    [1.66e-04, 6.59e-07, 1.12e-06]    [6.26e-04]    \n",
            "28000     [1.06e-04, 5.83e-07, 1.12e-06]    [9.56e-05, 5.83e-07, 1.12e-06]    [5.78e-04]    \n",
            "29000     [1.02e-04, 5.55e-07, 1.05e-06]    [9.21e-05, 5.55e-07, 1.05e-06]    [5.60e-04]    \n",
            "30000     [9.86e-05, 6.04e-07, 1.05e-06]    [8.80e-05, 6.04e-07, 1.05e-06]    [5.59e-04]    \n",
            "31000     [9.37e-05, 5.54e-07, 9.65e-07]    [8.49e-05, 5.54e-07, 9.65e-07]    [5.36e-04]    \n",
            "32000     [8.99e-05, 5.39e-07, 9.10e-07]    [8.20e-05, 5.39e-07, 9.10e-07]    [5.22e-04]    \n",
            "33000     [8.74e-05, 5.72e-07, 9.26e-07]    [7.88e-05, 5.72e-07, 9.26e-07]    [5.25e-04]    \n",
            "34000     [8.38e-05, 5.49e-07, 8.57e-07]    [7.64e-05, 5.49e-07, 8.57e-07]    [5.06e-04]    \n",
            "35000     [2.88e-04, 6.10e-07, 1.01e-06]    [2.49e-04, 6.10e-07, 1.01e-06]    [6.29e-04]    \n",
            "36000     [7.90e-05, 5.78e-07, 8.54e-07]    [7.14e-05, 5.78e-07, 8.54e-07]    [5.05e-04]    \n",
            "37000     [7.60e-05, 5.62e-07, 7.91e-07]    [6.94e-05, 5.62e-07, 7.91e-07]    [4.88e-04]    \n",
            "38000     [7.36e-05, 5.61e-07, 7.61e-07]    [6.74e-05, 5.61e-07, 7.61e-07]    [4.80e-04]    \n",
            "39000     [7.14e-05, 5.64e-07, 7.32e-07]    [6.56e-05, 5.64e-07, 7.32e-07]    [4.72e-04]    \n",
            "40000     [6.97e-05, 5.70e-07, 7.24e-07]    [6.40e-05, 5.70e-07, 7.24e-07]    [4.70e-04]    \n",
            "41000     [6.80e-05, 5.76e-07, 7.16e-07]    [6.24e-05, 5.76e-07, 7.16e-07]    [4.67e-04]    \n",
            "42000     [6.66e-05, 5.86e-07, 7.22e-07]    [6.09e-05, 5.86e-07, 7.22e-07]    [4.69e-04]    \n",
            "43000     [6.50e-05, 5.92e-07, 6.96e-07]    [5.94e-05, 5.92e-07, 6.96e-07]    [4.61e-04]    \n",
            "44000     [6.42e-05, 6.09e-07, 7.39e-07]    [5.80e-05, 6.09e-07, 7.39e-07]    [4.73e-04]    \n",
            "45000     [6.30e-05, 6.13e-07, 7.23e-07]    [5.68e-05, 6.13e-07, 7.23e-07]    [4.69e-04]    \n",
            "46000     [6.12e-05, 6.12e-07, 6.97e-07]    [5.54e-05, 6.12e-07, 6.97e-07]    [4.61e-04]    \n",
            "47000     [6.06e-05, 6.25e-07, 7.23e-07]    [5.43e-05, 6.25e-07, 7.23e-07]    [4.68e-04]    \n",
            "48000     [6.68e-05, 6.21e-07, 7.23e-07]    [6.13e-05, 6.21e-07, 7.23e-07]    [4.77e-04]    \n",
            "49000     [5.80e-05, 6.24e-07, 6.89e-07]    [5.21e-05, 6.24e-07, 6.89e-07]    [4.60e-04]    \n",
            "50000     [5.64e-05, 6.20e-07, 6.53e-07]    [5.09e-05, 6.20e-07, 6.53e-07]    [4.50e-04]    \n",
            "51000     [5.53e-05, 6.22e-07, 6.52e-07]    [4.98e-05, 6.22e-07, 6.52e-07]    [4.49e-04]    \n",
            "52000     [5.41e-05, 6.20e-07, 6.32e-07]    [4.89e-05, 6.20e-07, 6.32e-07]    [4.44e-04]    \n",
            "53000     [5.30e-05, 6.22e-07, 6.24e-07]    [4.79e-05, 6.22e-07, 6.24e-07]    [4.42e-04]    \n",
            "54000     [5.15e-05, 6.19e-07, 5.81e-07]    [4.69e-05, 6.19e-07, 5.81e-07]    [4.30e-04]    \n",
            "55000     [5.11e-05, 6.22e-07, 6.03e-07]    [4.61e-05, 6.22e-07, 6.03e-07]    [4.36e-04]    \n",
            "56000     [5.05e-05, 6.21e-07, 5.92e-07]    [4.55e-05, 6.21e-07, 5.92e-07]    [4.34e-04]    \n",
            "57000     [4.87e-05, 6.19e-07, 5.41e-07]    [4.44e-05, 6.19e-07, 5.41e-07]    [4.20e-04]    \n",
            "58000     [4.84e-05, 6.20e-07, 5.67e-07]    [4.37e-05, 6.20e-07, 5.67e-07]    [4.27e-04]    \n",
            "59000     [4.84e-05, 6.22e-07, 5.77e-07]    [4.34e-05, 6.22e-07, 5.77e-07]    [4.29e-04]    \n",
            "60000     [5.93e-05, 6.28e-07, 6.14e-07]    [5.12e-05, 6.28e-07, 6.14e-07]    [4.41e-04]    \n",
            "61000     [5.52e-05, 6.37e-07, 6.67e-07]    [4.83e-05, 6.37e-07, 6.67e-07]    [4.72e-04]    \n",
            "62000     [4.49e-05, 6.17e-07, 4.70e-07]    [4.14e-05, 6.17e-07, 4.70e-07]    [4.02e-04]    \n",
            "63000     [4.56e-05, 6.16e-07, 5.32e-07]    [4.09e-05, 6.16e-07, 5.32e-07]    [4.16e-04]    \n",
            "64000     [5.34e-05, 6.08e-07, 4.96e-07]    [4.85e-05, 6.08e-07, 4.96e-07]    [4.07e-04]    \n",
            "65000     [4.42e-05, 6.10e-07, 5.06e-07]    [3.98e-05, 6.10e-07, 5.06e-07]    [4.08e-04]    \n",
            "66000     [4.24e-05, 6.10e-07, 4.32e-07]    [3.90e-05, 6.10e-07, 4.32e-07]    [3.90e-04]    \n",
            "67000     [4.23e-05, 6.07e-07, 4.50e-07]    [3.86e-05, 6.07e-07, 4.50e-07]    [3.94e-04]    \n",
            "68000     [4.09e-05, 6.09e-07, 4.03e-07]    [3.79e-05, 6.09e-07, 4.03e-07]    [3.81e-04]    \n",
            "69000     [4.12e-05, 6.02e-07, 4.27e-07]    [3.77e-05, 6.02e-07, 4.27e-07]    [3.87e-04]    \n",
            "70000     [4.11e-05, 5.97e-07, 4.49e-07]    [3.72e-05, 5.97e-07, 4.49e-07]    [3.91e-04]    \n",
            "71000     [4.10e-05, 5.90e-07, 4.40e-07]    [3.70e-05, 5.90e-07, 4.40e-07]    [3.90e-04]    \n",
            "72000     [4.09e-05, 5.90e-07, 4.49e-07]    [3.67e-05, 5.90e-07, 4.49e-07]    [3.90e-04]    \n",
            "73000     [9.81e-03, 3.72e-06, 6.68e-06]    [9.62e-03, 3.72e-06, 6.68e-06]    [3.48e-03]    \n",
            "74000     [4.24e-05, 5.85e-07, 4.59e-07]    [3.76e-05, 5.85e-07, 4.59e-07]    [4.06e-04]    \n",
            "75000     [3.98e-05, 5.78e-07, 4.32e-07]    [3.57e-05, 5.78e-07, 4.32e-07]    [3.87e-04]    \n",
            "76000     [4.13e-05, 5.80e-07, 4.35e-07]    [3.66e-05, 5.80e-07, 4.35e-07]    [3.89e-04]    \n",
            "77000     [6.35e-05, 5.74e-07, 4.12e-07]    [6.10e-05, 5.74e-07, 4.12e-07]    [4.30e-04]    \n",
            "78000     [4.05e-05, 5.69e-07, 4.22e-07]    [3.63e-05, 5.69e-07, 4.22e-07]    [3.81e-04]    \n",
            "79000     [3.84e-05, 5.70e-07, 4.06e-07]    [3.44e-05, 5.70e-07, 4.06e-07]    [3.80e-04]    \n",
            "80000     [3.65e-05, 5.68e-07, 3.80e-07]    [3.33e-05, 5.68e-07, 3.80e-07]    [3.69e-04]    \n",
            "\n",
            "Best model at step 80000:\n",
            "  train loss: 3.75e-05\n",
            "  test loss: 3.42e-05\n",
            "  test metric: [3.69e-04]\n",
            "\n",
            "'train' took 340.317311 s\n",
            "\n"
          ]
        },
        {
          "data": {
            "text/plain": [
              "(<deepxde.model.LossHistory at 0x7f49a12f5180>,\n",
              " <deepxde.model.TrainState at 0x7f49a12f6f20>)"
            ]
          },
          "execution_count": 6,
          "metadata": {},
          "output_type": "execute_result"
        }
      ],
      "source": [
        "model.train(iterations=80000)"
      ]
    },
    {
      "cell_type": "code",
      "execution_count": 45,
      "metadata": {
        "colab": {
          "base_uri": "https://localhost:8080/",
          "height": 449
        },
        "id": "S9dFvPACoF7q",
        "outputId": "d98ad497-675d-43f3-9574-3d4a653937de"
      },
      "outputs": [
        {
          "data": {
            "image/png": "[encoded data removed]",
            "text/plain": [
              "<Figure size 640x480 with 1 Axes>"
            ]
          },
          "metadata": {},
          "output_type": "display_data"
        }
      ],
      "source": [
        "# compute the L2 relative error between the true solution and the predicted solution\n",
        "\n",
        "rel_l2_errors = []\n",
        "\n",
        "for t in range(100):\n",
        "    x = geom.uniform_points(256, True)\n",
        "    t = np.full(256, t/100)\n",
        "    x = np.hstack((x, t.reshape(-1, 1)))\n",
        "    y_pred = model.predict(x)\n",
        "\n",
        "    y_true = func(x)\n",
        "\n",
        "    # collect the relative L2 errors in a list\n",
        "    rel_l2_errors.append(dde.metrics.l2_relative_error(y_true, y_pred))\n",
        "\n",
        "\n",
        "# plot the relative L2 errors\n",
        "\n",
        "m = np.linspace(0, 1, 100)\n",
        "plt.plot(m, rel_l2_errors)\n",
        "plt.xlabel(\"t\")\n",
        "plt.ylabel(\"L2 relative error\")\n",
        "plt.show()"
      ]
    },
    {
      "cell_type": "code",
      "execution_count": 50,
      "metadata": {
        "colab": {
          "base_uri": "https://localhost:8080/",
          "height": 482
        },
        "id": "BrLF7J0OoyWK",
        "outputId": "c35fe595-0db3-47ca-cd85-c50062f6b0c4"
      },
      "outputs": [
        {
          "data": {
            "image/png": "[encoded data removed]",
            "text/plain": [
              "<Figure size 640x480 with 1 Axes>"
            ]
          },
          "metadata": {},
          "output_type": "display_data"
        },
        {
          "name": "stdout",
          "output_type": "stream",
          "text": [
            "(array([ 0.00353448,  0.04946832, -0.00353636]), array([[ 1.42157041e-08, -7.59246809e-08, -2.19473183e-08],\n",
            "       [-7.59246809e-08,  4.10221740e-07,  1.14799097e-07],\n",
            "       [-2.19473183e-08,  1.14799097e-07,  3.65172462e-08]]))\n"
          ]
        }
      ],
      "source": [
        "plot_exp_fit(rel_l2_errors[50:], exp_fit(rel_l2_errors[50:])[0])\n",
        "\n",
        "print(exp_fit(rel_l2_errors[50:]))"
      ]
    },
    {
      "cell_type": "code",
      "execution_count": null,
      "metadata": {
        "id": "MaBHK9j5r4Ak"
      },
      "outputs": [],
      "source": [
        "def gen_testdata():\n",
        "  full_domain = np.zeros(shape=(25600, 2))\n",
        "  true_sol = np.zeros(shape=(25600,))\n",
        "  for time_step in range(100):\n",
        "      time = time_step * .01\n",
        "      x = geom.uniform_points(256, True)\n",
        "      t = np.full(256, time)\n",
        "      x = np.hstack((x, t.reshape(-1, 1)))\n",
        "\n",
        "      start = int(256 * time * 100)\n",
        "      end = start + 256\n",
        "      full_domain[start:end] = x\n",
        "\n",
        "      ground_truth = func(x)\n",
        "      # print(len(func(x)))\n",
        "      true_sol[start:end] = ground_truth[0]\n",
        "  \n",
        "  return full_domain, true_sol"
      ]
    },
    {
      "cell_type": "code",
      "execution_count": null,
      "metadata": {
        "id": "DgrpQJWPpuqX"
      },
      "outputs": [],
      "source": [
        "X, y_true = gen_testdata()\n",
        "\n",
        "t = 0.99\n",
        "\n",
        "start = round(256 * t * 100)\n",
        "end = start + 256\n",
        "\n",
        "true_freq, true_fourier = get_fft(y_true[start:end], 256/2)"
      ]
    },
    {
      "cell_type": "code",
      "execution_count": null,
      "metadata": {
        "colab": {
          "base_uri": "https://localhost:8080/"
        },
        "collapsed": true,
        "id": "4miYJPwyq_9G",
        "outputId": "244117e7-9123-43c9-96cd-fd0cf628dc44"
      },
      "outputs": [
        {
          "data": {
            "text/plain": [
              "(0.0,\n",
              " 0.0,\n",
              " 0.0,\n",
              " 0.0,\n",
              " 0.0,\n",
              " 0.0,\n",
              " 0.0,\n",
              " 0.0,\n",
              " 0.0,\n",
              " 0.0,\n",
              " 0.0,\n",
              " 0.0,\n",
              " 0.0,\n",
              " 0.0,\n",
              " 0.0,\n",
              " 0.0,\n",
              " 0.0,\n",
              " 0.0,\n",
              " 0.0,\n",
              " 0.0,\n",
              " 0.0,\n",
              " 0.0,\n",
              " 0.0,\n",
              " 0.0,\n",
              " 0.0,\n",
              " 0.0,\n",
              " 0.0,\n",
              " 0.0,\n",
              " 0.0,\n",
              " 0.0,\n",
              " 0.0,\n",
              " 0.0,\n",
              " 0.0,\n",
              " 0.0,\n",
              " 0.0,\n",
              " 0.0,\n",
              " 0.0,\n",
              " 0.0,\n",
              " 0.0,\n",
              " 0.0,\n",
              " 0.0,\n",
              " 0.0,\n",
              " 0.0,\n",
              " 0.0,\n",
              " 0.0,\n",
              " 0.0,\n",
              " 0.0,\n",
              " 0.0,\n",
              " 0.0,\n",
              " 0.0,\n",
              " 0.0,\n",
              " 0.0,\n",
              " 0.0,\n",
              " 0.0,\n",
              " 0.0,\n",
              " 0.0,\n",
              " 0.0,\n",
              " 0.0,\n",
              " 0.0,\n",
              " 0.0,\n",
              " 0.0,\n",
              " 0.0,\n",
              " 0.0,\n",
              " 0.0,\n",
              " 0.0,\n",
              " 0.0,\n",
              " 0.0,\n",
              " 0.0,\n",
              " 0.0,\n",
              " 0.0,\n",
              " 0.0,\n",
              " 0.0,\n",
              " 0.0,\n",
              " 0.0,\n",
              " 0.0,\n",
              " 0.0,\n",
              " 0.0,\n",
              " 0.0,\n",
              " 0.0,\n",
              " 0.0,\n",
              " 0.0,\n",
              " 0.0,\n",
              " 0.0,\n",
              " 0.0,\n",
              " 0.0,\n",
              " 0.0,\n",
              " 0.0,\n",
              " 0.0,\n",
              " 0.0,\n",
              " 0.0,\n",
              " 0.0,\n",
              " 0.0,\n",
              " 0.0,\n",
              " 0.0,\n",
              " 0.0,\n",
              " 0.0,\n",
              " 0.0,\n",
              " 0.0,\n",
              " 0.0,\n",
              " 0.0,\n",
              " 0.0,\n",
              " 0.0,\n",
              " 0.0,\n",
              " 0.0,\n",
              " 0.0,\n",
              " 0.0,\n",
              " 0.0,\n",
              " 0.0,\n",
              " 0.0,\n",
              " 0.0,\n",
              " 0.0,\n",
              " 0.0,\n",
              " 0.0,\n",
              " 0.0,\n",
              " 0.0,\n",
              " 0.0,\n",
              " 0.0,\n",
              " 0.0,\n",
              " 0.0,\n",
              " 0.0,\n",
              " 0.0,\n",
              " 0.0,\n",
              " 0.0,\n",
              " 0.0,\n",
              " 0.0,\n",
              " 0.0,\n",
              " 0.0)"
            ]
          },
          "execution_count": 41,
          "metadata": {},
          "output_type": "execute_result"
        }
      ],
      "source": [
        "true_fourier"
      ]
    },
    {
      "cell_type": "markdown",
      "metadata": {
        "id": "3cGiA2z4mruD"
      },
      "source": [
        "**Burger's Equation**"
      ]
    },
    {
      "cell_type": "code",
      "execution_count": null,
      "metadata": {
        "id": "2Kfv0bysmwoG"
      },
      "outputs": [],
      "source": []
    },
    {
      "cell_type": "markdown",
      "metadata": {
        "id": "yEEy6RsKmxIX"
      },
      "source": [
        "**Allen-Cahn Equation**"
      ]
    },
    {
      "cell_type": "code",
      "execution_count": null,
      "metadata": {
        "id": "V2u7KgOom2_m"
      },
      "outputs": [],
      "source": []
    }
  ],
  "metadata": {
    "accelerator": "GPU",
    "colab": {
      "gpuType": "T4",
      "provenance": []
    },
    "gpuClass": "standard",
    "kernelspec": {
      "display_name": "pinns",
      "language": "python",
      "name": "python3"
    },
    "language_info": {
      "name": "python",
      "version": "3.11.2"
    },
    "vscode": {
      "interpreter": {
        "hash": "84bd5e8dd124fb62858a216a3e9e58b92223546498b5cf488ec6fa3651c01b45"
      }
    }
  },
  "nbformat": 4,
  "nbformat_minor": 0
}
